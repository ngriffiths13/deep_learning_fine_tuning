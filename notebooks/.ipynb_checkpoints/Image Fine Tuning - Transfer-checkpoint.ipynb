{
 "cells": [
  {
   "cell_type": "code",
   "execution_count": 1,
   "metadata": {},
   "outputs": [
    {
     "name": "stdout",
     "output_type": "stream",
     "text": [
      "Using 4 GPUs\n"
     ]
    },
    {
     "data": {
      "text/plain": [
       "<torch._C.Generator at 0x7f9885bf0330>"
      ]
     },
     "execution_count": 1,
     "metadata": {},
     "output_type": "execute_result"
    }
   ],
   "source": [
    "import numpy as np\n",
    "import pandas as pd\n",
    "from tqdm import tqdm_notebook as tqdm\n",
    "import os\n",
    "import torch\n",
    "import torch.nn as nn\n",
    "import torchvision\n",
    "from torchvision import transforms\n",
    "import string\n",
    "from sklearn.preprocessing import LabelEncoder\n",
    "from sklearn.model_selection import train_test_split\n",
    "import cv2\n",
    "import multiprocessing as mp\n",
    "import joblib\n",
    "\n",
    "train_on_gpu = torch.cuda.is_available()\n",
    "if torch.cuda.device_count() > 1:\n",
    "    multiple_gpus = True\n",
    "    \n",
    "print(f\"Using {torch.cuda.device_count()} GPUs\")\n",
    "\n",
    "torch.manual_seed(0)"
   ]
  },
  {
   "cell_type": "code",
   "execution_count": 2,
   "metadata": {},
   "outputs": [],
   "source": [
    "le = joblib.load('../models/genre_encoder.sklearn')\n",
    "df = pd.read_csv('../data/clean_book_data.csv')\n",
    "df = df[['index', 'genre']]\n",
    "classes = df.genre.unique()"
   ]
  },
  {
   "cell_type": "code",
   "execution_count": 3,
   "metadata": {},
   "outputs": [],
   "source": [
    "train_transforms = transforms.Compose([transforms.ToPILImage(),\n",
    "                                       transforms.Resize((224, 224)),\n",
    "                                       transforms.RandomHorizontalFlip(),\n",
    "                                       transforms.ToTensor(),\n",
    "                                      transforms.Normalize(mean=[0.485, 0.456, 0.406],std=[0.229, 0.224, 0.225])])\n",
    "\n",
    "test_transforms = transforms.Compose([transforms.ToPILImage(),\n",
    "                                     transforms.Resize((224, 224)),\n",
    "                                     transforms.ToTensor(),\n",
    "                                     transforms.Normalize(mean=[0.485, 0.456, 0.406],std=[0.229, 0.224, 0.225])])\n",
    "\n",
    "\n",
    "\n"
   ]
  },
  {
   "cell_type": "code",
   "execution_count": 4,
   "metadata": {},
   "outputs": [],
   "source": [
    "train_df, test_df = train_test_split(df, stratify = df.genre, test_size=.4, random_state=0)\n",
    "val_df, test_df = train_test_split(test_df, stratify = test_df.genre, test_size=.5, random_state=0)"
   ]
  },
  {
   "cell_type": "code",
   "execution_count": 5,
   "metadata": {},
   "outputs": [],
   "source": [
    "class DataSet(torch.utils.data.Dataset):\n",
    "    def __init__(self, labels, data_directory, transform=None):\n",
    "        super().__init__()\n",
    "        self.labels = labels.values\n",
    "        self.data_dir = data_directory\n",
    "        self.transform=transform\n",
    "        \n",
    "    def __len__(self):\n",
    "        return len(self.labels)\n",
    "    \n",
    "    def __getitem__(self, index):\n",
    "        name, label = self.labels[index]\n",
    "        img_path = os.path.join(self.data_dir, name)\n",
    "        img = cv2.imread(img_path)\n",
    "        \n",
    "        if self.transform is not None:\n",
    "            img = self.transform(img)\n",
    "        return img, label"
   ]
  },
  {
   "cell_type": "code",
   "execution_count": 6,
   "metadata": {},
   "outputs": [],
   "source": [
    "batch_size = 196\n",
    "\n",
    "train_data = DataSet(train_df,'../data/goodreads-best-books/images/images/', transform = train_transforms)\n",
    "val_data = DataSet(val_df,'../data/goodreads-best-books/images/images/', transform = test_transforms)\n",
    "test_data = DataSet(test_df,'../data/goodreads-best-books/images/images/', transform = test_transforms)\n",
    "\n",
    "train_data_loader = torch.utils.data.DataLoader(train_data, batch_size = batch_size,\n",
    "                                                shuffle = True, num_workers=mp.cpu_count())\n",
    "val_data_loader = torch.utils.data.DataLoader(val_data, batch_size = batch_size,\n",
    "                                              shuffle = True, num_workers=mp.cpu_count())\n",
    "test_data_loader = torch.utils.data.DataLoader(test_data, batch_size = batch_size,\n",
    "                                              shuffle = True, num_workers=mp.cpu_count())"
   ]
  },
  {
   "cell_type": "code",
   "execution_count": 7,
   "metadata": {},
   "outputs": [],
   "source": [
    "vgg = torchvision.models.vgg11(pretrained=True)\n",
    "best_model = torchvision.models.vgg11(pretrained=False)\n",
    "vgg.classifier[6] = nn.Linear(4096, len(classes))\n",
    "best_model.classifier[6] = nn.Linear(4096, len(classes))\n",
    "\n",
    "for param in vgg.features.parameters():\n",
    "    param.requires_grad = False"
   ]
  },
  {
   "cell_type": "code",
   "execution_count": 8,
   "metadata": {},
   "outputs": [],
   "source": [
    "def train_model(model, train_data, val_data, epochs, loss, lr, model_name):\n",
    "    optimizer = torch.optim.Adamax(model.parameters(), lr=lr)\n",
    "    no_improvement=0\n",
    "    best_loss = np.inf\n",
    "    train_losses = []\n",
    "    val_losses = []\n",
    "    \n",
    "    if train_on_gpu:\n",
    "        model = model.cuda()\n",
    "        \n",
    "        if multiple_gpus:\n",
    "            model = nn.DataParallel(model)\n",
    "    \n",
    "    for epoch in range(1, epochs+1):\n",
    "        train_loss = 0\n",
    "        val_loss = 0\n",
    "\n",
    "        model.train()\n",
    "        for images, labels in train_data:\n",
    "\n",
    "            if train_on_gpu:\n",
    "                images = images.cuda()\n",
    "                labels = labels.cuda()\n",
    "\n",
    "            optimizer.zero_grad()\n",
    "            out = model(images)\n",
    "            loss = criterion(out, labels)\n",
    "\n",
    "            loss.backward()\n",
    "            optimizer.step()\n",
    "\n",
    "            train_loss += loss.item()\n",
    "\n",
    "        model.eval()\n",
    "        for images, labels in val_data:\n",
    "\n",
    "            if train_on_gpu:\n",
    "                images = images.cuda()\n",
    "                labels = labels.cuda()\n",
    "\n",
    "            out = model(images)\n",
    "            loss = criterion(out, labels)\n",
    "\n",
    "            val_loss += loss.item()\n",
    "\n",
    "        train_loss = train_loss/len(train_data_loader.dataset)\n",
    "        val_loss = val_loss/len(val_data_loader.dataset)\n",
    "        train_losses.append(train_loss)\n",
    "        val_losses.append(val_loss)\n",
    "        print('Epoch: {} \\tTraining Loss: {:.6f} \\tValidation Loss: {:.6f}'.format(epoch, train_loss, val_loss))\n",
    "\n",
    "        #Saving the weights of the best model according to validation score\n",
    "        if val_loss < best_loss:\n",
    "            no_improvement = 0\n",
    "            best_loss = val_loss\n",
    "            print('Improved Model Score - Updating Best Model Parameters...')\n",
    "            if multiple_gpus:\n",
    "                torch.save(model.module.state_dict(), f'../models/{model_name}.pt')\n",
    "            else:\n",
    "                torch.save(model.state_dict(), f'../models/{model_name}.pt')\n",
    "        else:\n",
    "            no_improvement +=1\n",
    "            if no_improvement==5:\n",
    "                print('No Improvement for 5 epochs, Early Stopping')\n",
    "                break\n",
    "                \n",
    "    joblib.dump(train_losses, '../data/pretrain_train_losses.pkl')\n",
    "    joblib.dump(val_losses, '../data/pretrain_val_losses.pkl')"
   ]
  },
  {
   "cell_type": "code",
   "execution_count": 9,
   "metadata": {},
   "outputs": [
    {
     "name": "stdout",
     "output_type": "stream",
     "text": [
      "Epoch: 1 \tTraining Loss: 0.015777 \tValidation Loss: 0.014643\n",
      "Improved Model Score - Updating Best Model Parameters...\n",
      "Epoch: 2 \tTraining Loss: 0.013761 \tValidation Loss: 0.014115\n",
      "Improved Model Score - Updating Best Model Parameters...\n",
      "Epoch: 3 \tTraining Loss: 0.012946 \tValidation Loss: 0.013735\n",
      "Improved Model Score - Updating Best Model Parameters...\n",
      "Epoch: 4 \tTraining Loss: 0.012271 \tValidation Loss: 0.013592\n",
      "Improved Model Score - Updating Best Model Parameters...\n",
      "Epoch: 5 \tTraining Loss: 0.011651 \tValidation Loss: 0.013467\n",
      "Improved Model Score - Updating Best Model Parameters...\n",
      "Epoch: 6 \tTraining Loss: 0.011066 \tValidation Loss: 0.013290\n",
      "Improved Model Score - Updating Best Model Parameters...\n",
      "Epoch: 7 \tTraining Loss: 0.010399 \tValidation Loss: 0.013274\n",
      "Improved Model Score - Updating Best Model Parameters...\n",
      "Epoch: 8 \tTraining Loss: 0.009822 \tValidation Loss: 0.013318\n",
      "Epoch: 9 \tTraining Loss: 0.009240 \tValidation Loss: 0.013157\n",
      "Improved Model Score - Updating Best Model Parameters...\n",
      "Epoch: 10 \tTraining Loss: 0.008611 \tValidation Loss: 0.013181\n",
      "Epoch: 11 \tTraining Loss: 0.007984 \tValidation Loss: 0.013234\n",
      "Epoch: 12 \tTraining Loss: 0.007402 \tValidation Loss: 0.013308\n",
      "Epoch: 13 \tTraining Loss: 0.006777 \tValidation Loss: 0.013439\n",
      "Epoch: 14 \tTraining Loss: 0.006182 \tValidation Loss: 0.013465\n",
      "No Improvement for 5 epochs, Early Stopping\n"
     ]
    }
   ],
   "source": [
    "learning_rate = .0001\n",
    "criterion = nn.CrossEntropyLoss()\n",
    "\n",
    "train_model(vgg, train_data_loader, val_data_loader, 200, criterion, learning_rate, 'vgg_transfer')"
   ]
  },
  {
   "cell_type": "code",
   "execution_count": 10,
   "metadata": {},
   "outputs": [
    {
     "name": "stdout",
     "output_type": "stream",
     "text": [
      "Test Accuracy: 33.9171974522293 %\n"
     ]
    }
   ],
   "source": [
    "best_model.load_state_dict(torch.load('../models/vgg_transfer.pt'))\n",
    "\n",
    "best_model = best_model.cuda()\n",
    "best_model.eval()\n",
    "with torch.no_grad():\n",
    "    correct = 0\n",
    "    total = 0\n",
    "    for images, labels in test_data_loader:\n",
    "        if train_on_gpu:\n",
    "            images = images.cuda()\n",
    "            labels = labels.cuda()\n",
    "        outputs = best_model(images)\n",
    "        _, predicted = torch.max(outputs.data, 1)\n",
    "        total += labels.size(0)\n",
    "        correct += (predicted == labels).sum().item()\n",
    "          \n",
    "    print('Test Accuracy: {} %'.format(100 * correct / total))"
   ]
  },
  {
   "cell_type": "code",
   "execution_count": null,
   "metadata": {},
   "outputs": [],
   "source": []
  }
 ],
 "metadata": {
  "kernelspec": {
   "display_name": "eureka_gaming",
   "language": "python",
   "name": "eureka_youtube_v3_gaming_1"
  },
  "language_info": {
   "codemirror_mode": {
    "name": "ipython",
    "version": 3
   },
   "file_extension": ".py",
   "mimetype": "text/x-python",
   "name": "python",
   "nbconvert_exporter": "python",
   "pygments_lexer": "ipython3",
   "version": "3.7.2"
  }
 },
 "nbformat": 4,
 "nbformat_minor": 2
}

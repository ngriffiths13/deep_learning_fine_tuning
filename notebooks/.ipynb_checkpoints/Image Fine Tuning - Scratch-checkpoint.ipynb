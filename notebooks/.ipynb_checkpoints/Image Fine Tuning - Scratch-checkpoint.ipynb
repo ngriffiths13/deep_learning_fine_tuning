{
 "cells": [
  {
   "cell_type": "code",
   "execution_count": 1,
   "metadata": {},
   "outputs": [
    {
     "name": "stdout",
     "output_type": "stream",
     "text": [
      "Using 4 GPUs\n"
     ]
    },
    {
     "data": {
      "text/plain": [
       "<torch._C.Generator at 0x7f12b06fb330>"
      ]
     },
     "execution_count": 1,
     "metadata": {},
     "output_type": "execute_result"
    }
   ],
   "source": [
    "import numpy as np\n",
    "import pandas as pd\n",
    "from tqdm import tqdm_notebook as tqdm\n",
    "import os\n",
    "import torch\n",
    "import torch.nn as nn\n",
    "import torchvision\n",
    "from torchvision import transforms\n",
    "import string\n",
    "from sklearn.preprocessing import LabelEncoder\n",
    "from sklearn.model_selection import train_test_split\n",
    "import cv2\n",
    "import multiprocessing as mp\n",
    "import joblib\n",
    "\n",
    "train_on_gpu = torch.cuda.is_available()\n",
    "if torch.cuda.device_count() > 1:\n",
    "    multiple_gpus = True\n",
    "    \n",
    "print(f\"Using {torch.cuda.device_count()} GPUs\")\n",
    "\n",
    "torch.manual_seed(0)"
   ]
  },
  {
   "cell_type": "code",
   "execution_count": 2,
   "metadata": {},
   "outputs": [],
   "source": [
    "df = pd.read_csv('../data/goodreads-best-books/book_data.csv')\n",
    "\n",
    "def get_first_obs(g):\n",
    "    return g.split('|')[0]\n",
    "\n",
    "df = df.iloc[0:20000]\n",
    "df['genres'].fillna('UNK', inplace=True)\n",
    "df['genre'] = df['genres'].apply(get_first_obs)\n",
    "df['author'] = df['book_authors'].apply(get_first_obs)\n",
    "df.drop(['genres', 'book_authors', 'book_edition'], axis=1, inplace=True)\n",
    "df.reset_index(inplace=True)\n",
    "\n",
    "classes = (df['genre'].value_counts()).index[df['genre'].value_counts() > 5]\n",
    "classes = [c for c in classes if c != 'UNK']\n",
    "\n",
    "df = df[df['genre'].isin(classes)]\n",
    "le = LabelEncoder()\n",
    "df['genre'] = le.fit_transform(df['genre'])\n",
    "joblib.dump(le, '../models/genre_encoder.sklearn')\n",
    "classes = df.genre.unique()\n",
    "\n",
    "df['index'] = df['index'].astype(str)+'.jpg'\n",
    "df.reset_index(drop=True, inplace=True)"
   ]
  },
  {
   "cell_type": "code",
   "execution_count": 3,
   "metadata": {},
   "outputs": [
    {
     "data": {
      "text/plain": [
       "(18915, 12)"
      ]
     },
     "execution_count": 3,
     "metadata": {},
     "output_type": "execute_result"
    }
   ],
   "source": [
    "df.shape"
   ]
  },
  {
   "cell_type": "code",
   "execution_count": 4,
   "metadata": {},
   "outputs": [],
   "source": [
    "train_transforms = transforms.Compose([transforms.ToPILImage(),\n",
    "                                       transforms.Resize((224, 224)),\n",
    "                                       transforms.RandomHorizontalFlip(),\n",
    "                                       transforms.ToTensor(),\n",
    "                                      transforms.Normalize(mean=[0.485, 0.456, 0.406],std=[0.229, 0.224, 0.225])])\n",
    "\n",
    "test_transforms = transforms.Compose([transforms.ToPILImage(),\n",
    "                                     transforms.Resize((224, 224)),\n",
    "                                     transforms.ToTensor(),\n",
    "                                     transforms.Normalize(mean=[0.485, 0.456, 0.406],std=[0.229, 0.224, 0.225])])\n",
    "\n",
    "\n",
    "\n"
   ]
  },
  {
   "cell_type": "code",
   "execution_count": 5,
   "metadata": {},
   "outputs": [
    {
     "name": "stderr",
     "output_type": "stream",
     "text": [
      "/home/ubuntu/anaconda3/envs/eureka_youtube_v3_gaming_1/lib/python3.7/site-packages/ipykernel_launcher.py:2: TqdmDeprecationWarning: This function will be removed in tqdm==5.0.0\n",
      "Please use `tqdm.notebook.tqdm` instead of `tqdm.tqdm_notebook`\n",
      "  \n"
     ]
    },
    {
     "data": {
      "application/vnd.jupyter.widget-view+json": {
       "model_id": "5975a828c5c24f66bc9a9b4b89b9dc84",
       "version_major": 2,
       "version_minor": 0
      },
      "text/plain": [
       "HBox(children=(IntProgress(value=0, max=18915), HTML(value='')))"
      ]
     },
     "metadata": {},
     "output_type": "display_data"
    },
    {
     "name": "stdout",
     "output_type": "stream",
     "text": [
      "\n"
     ]
    }
   ],
   "source": [
    "bad_images = []\n",
    "for i in tqdm(range(df.shape[0])):\n",
    "    try:\n",
    "        img = cv2.imread(f'../data/goodreads-best-books/images/images/{df[\"index\"][i]}')\n",
    "        img = train_transforms(img)\n",
    "    except:\n",
    "        bad_images.append(df['index'][i])"
   ]
  },
  {
   "cell_type": "code",
   "execution_count": 6,
   "metadata": {},
   "outputs": [],
   "source": [
    "df = df[~df['index'].isin(bad_images)].reset_index(drop=True)\n",
    "df.to_csv('../data/clean_book_data.csv', index=False)\n",
    "df = df[['index', 'genre']]"
   ]
  },
  {
   "cell_type": "code",
   "execution_count": 7,
   "metadata": {},
   "outputs": [
    {
     "data": {
      "text/html": [
       "<div>\n",
       "<style scoped>\n",
       "    .dataframe tbody tr th:only-of-type {\n",
       "        vertical-align: middle;\n",
       "    }\n",
       "\n",
       "    .dataframe tbody tr th {\n",
       "        vertical-align: top;\n",
       "    }\n",
       "\n",
       "    .dataframe thead th {\n",
       "        text-align: right;\n",
       "    }\n",
       "</style>\n",
       "<table border=\"1\" class=\"dataframe\">\n",
       "  <thead>\n",
       "    <tr style=\"text-align: right;\">\n",
       "      <th></th>\n",
       "      <th>index</th>\n",
       "      <th>genre</th>\n",
       "    </tr>\n",
       "  </thead>\n",
       "  <tbody>\n",
       "    <tr>\n",
       "      <th>18832</th>\n",
       "      <td>19995.jpg</td>\n",
       "      <td>10</td>\n",
       "    </tr>\n",
       "    <tr>\n",
       "      <th>18833</th>\n",
       "      <td>19996.jpg</td>\n",
       "      <td>44</td>\n",
       "    </tr>\n",
       "    <tr>\n",
       "      <th>18834</th>\n",
       "      <td>19997.jpg</td>\n",
       "      <td>43</td>\n",
       "    </tr>\n",
       "    <tr>\n",
       "      <th>18835</th>\n",
       "      <td>19998.jpg</td>\n",
       "      <td>33</td>\n",
       "    </tr>\n",
       "    <tr>\n",
       "      <th>18836</th>\n",
       "      <td>19999.jpg</td>\n",
       "      <td>43</td>\n",
       "    </tr>\n",
       "  </tbody>\n",
       "</table>\n",
       "</div>"
      ],
      "text/plain": [
       "           index  genre\n",
       "18832  19995.jpg     10\n",
       "18833  19996.jpg     44\n",
       "18834  19997.jpg     43\n",
       "18835  19998.jpg     33\n",
       "18836  19999.jpg     43"
      ]
     },
     "execution_count": 7,
     "metadata": {},
     "output_type": "execute_result"
    }
   ],
   "source": [
    "df.tail()"
   ]
  },
  {
   "cell_type": "code",
   "execution_count": 14,
   "metadata": {},
   "outputs": [],
   "source": [
    "train_df, test_df = train_test_split(df, stratify = df.genre, test_size=.4, random_state=0)\n",
    "val_df, test_df = train_test_split(test_df, stratify = test_df.genre, test_size=.5, random_state=0)"
   ]
  },
  {
   "cell_type": "code",
   "execution_count": 15,
   "metadata": {},
   "outputs": [],
   "source": [
    "class DataSet(torch.utils.data.Dataset):\n",
    "    def __init__(self, labels, data_directory, transform=None):\n",
    "        super().__init__()\n",
    "        self.labels = labels.values\n",
    "        self.data_dir = data_directory\n",
    "        self.transform=transform\n",
    "        \n",
    "    def __len__(self):\n",
    "        return len(self.labels)\n",
    "    \n",
    "    def __getitem__(self, index):\n",
    "        name, label = self.labels[index]\n",
    "        img_path = os.path.join(self.data_dir, name)\n",
    "        img = cv2.imread(img_path)\n",
    "        \n",
    "        if self.transform is not None:\n",
    "            img = self.transform(img)\n",
    "        return img, label"
   ]
  },
  {
   "cell_type": "code",
   "execution_count": 16,
   "metadata": {},
   "outputs": [],
   "source": [
    "batch_size = 196\n",
    "\n",
    "train_data = DataSet(train_df,'../data/goodreads-best-books/images/images/', transform = train_transforms)\n",
    "val_data = DataSet(val_df,'../data/goodreads-best-books/images/images/', transform = test_transforms)\n",
    "test_data = DataSet(test_df,'../data/goodreads-best-books/images/images/', transform = test_transforms)\n",
    "\n",
    "train_data_loader = torch.utils.data.DataLoader(train_data, batch_size = batch_size,\n",
    "                                                shuffle = True, num_workers=mp.cpu_count())\n",
    "val_data_loader = torch.utils.data.DataLoader(val_data, batch_size = batch_size,\n",
    "                                              shuffle = True, num_workers=mp.cpu_count())\n",
    "test_data_loader = torch.utils.data.DataLoader(test_data, batch_size = batch_size,\n",
    "                                              shuffle = True, num_workers=mp.cpu_count())"
   ]
  },
  {
   "cell_type": "code",
   "execution_count": 17,
   "metadata": {},
   "outputs": [],
   "source": [
    "vgg = torchvision.models.vgg11(pretrained=False)\n",
    "best_model = torchvision.models.vgg11(pretrained=False)\n",
    "vgg.classifier[6] = nn.Linear(4096, len(classes))\n",
    "best_model.classifier[6] = nn.Linear(4096, len(classes))"
   ]
  },
  {
   "cell_type": "code",
   "execution_count": 18,
   "metadata": {},
   "outputs": [],
   "source": [
    "def train_model(model, train_data, val_data, epochs, loss, lr, model_name):\n",
    "    optimizer = torch.optim.Adamax(model.parameters(), lr=lr)\n",
    "    no_improvement=0\n",
    "    best_loss = np.inf\n",
    "    train_losses = []\n",
    "    val_losses = []\n",
    "    \n",
    "    if train_on_gpu:\n",
    "        model = model.cuda()\n",
    "        \n",
    "        if multiple_gpus:\n",
    "            model = nn.DataParallel(model)\n",
    "    \n",
    "    for epoch in range(1, epochs+1):\n",
    "        train_loss = 0\n",
    "        val_loss = 0\n",
    "\n",
    "        model.train()\n",
    "        for images, labels in train_data:\n",
    "\n",
    "            if train_on_gpu:\n",
    "                images = images.cuda()\n",
    "                labels = labels.cuda()\n",
    "\n",
    "            optimizer.zero_grad()\n",
    "            out = model(images)\n",
    "            loss = criterion(out, labels)\n",
    "\n",
    "            loss.backward()\n",
    "            optimizer.step()\n",
    "\n",
    "            train_loss += loss.item()\n",
    "\n",
    "        model.eval()\n",
    "        for images, labels in val_data:\n",
    "\n",
    "            if train_on_gpu:\n",
    "                images = images.cuda()\n",
    "                labels = labels.cuda()\n",
    "\n",
    "            out = model(images)\n",
    "            loss = criterion(out, labels)\n",
    "\n",
    "            val_loss += loss.item()\n",
    "\n",
    "        train_loss = train_loss/len(train_data_loader.dataset)\n",
    "        val_loss = val_loss/len(val_data_loader.dataset)\n",
    "        train_losses.append(train_loss)\n",
    "        val_losses.append(val_loss)\n",
    "        print('Epoch: {} \\tTraining Loss: {:.6f} \\tValidation Loss: {:.6f}'.format(epoch, train_loss, val_loss))\n",
    "\n",
    "        #Saving the weights of the best model according to validation score\n",
    "        if val_loss < best_loss:\n",
    "            no_improvement = 0\n",
    "            best_loss = val_loss\n",
    "            print('Improved Model Score - Updating Best Model Parameters...')\n",
    "            if multiple_gpus:\n",
    "                torch.save(model.module.state_dict(), f'../models/{model_name}.pt')\n",
    "            else:\n",
    "                torch.save(model.state_dict(), f'../models/{model_name}.pt')\n",
    "        else:\n",
    "            no_improvement +=1\n",
    "            if no_improvement==5:\n",
    "                print('No Improvement for 5 epochs, Early Stopping')\n",
    "                break\n",
    "                \n",
    "    joblib.dump(train_losses, '../data/no_pretrain_train_losses.pkl')\n",
    "    joblib.dump(val_losses, '../data/no_pretrain_val_losses.pkl')"
   ]
  },
  {
   "cell_type": "code",
   "execution_count": 19,
   "metadata": {},
   "outputs": [
    {
     "name": "stdout",
     "output_type": "stream",
     "text": [
      "Epoch: 1 \tTraining Loss: 0.016574 \tValidation Loss: 0.016361\n",
      "Improved Model Score - Updating Best Model Parameters...\n",
      "Epoch: 2 \tTraining Loss: 0.015718 \tValidation Loss: 0.016124\n",
      "Improved Model Score - Updating Best Model Parameters...\n",
      "Epoch: 3 \tTraining Loss: 0.015588 \tValidation Loss: 0.015934\n",
      "Improved Model Score - Updating Best Model Parameters...\n",
      "Epoch: 4 \tTraining Loss: 0.015464 \tValidation Loss: 0.015946\n",
      "Epoch: 5 \tTraining Loss: 0.015365 \tValidation Loss: 0.015902\n",
      "Improved Model Score - Updating Best Model Parameters...\n",
      "Epoch: 6 \tTraining Loss: 0.015205 \tValidation Loss: 0.015694\n",
      "Improved Model Score - Updating Best Model Parameters...\n",
      "Epoch: 7 \tTraining Loss: 0.015100 \tValidation Loss: 0.015545\n",
      "Improved Model Score - Updating Best Model Parameters...\n",
      "Epoch: 8 \tTraining Loss: 0.014914 \tValidation Loss: 0.015542\n",
      "Improved Model Score - Updating Best Model Parameters...\n",
      "Epoch: 9 \tTraining Loss: 0.014761 \tValidation Loss: 0.015355\n",
      "Improved Model Score - Updating Best Model Parameters...\n",
      "Epoch: 10 \tTraining Loss: 0.014622 \tValidation Loss: 0.015338\n",
      "Improved Model Score - Updating Best Model Parameters...\n",
      "Epoch: 11 \tTraining Loss: 0.014498 \tValidation Loss: 0.015238\n",
      "Improved Model Score - Updating Best Model Parameters...\n",
      "Epoch: 12 \tTraining Loss: 0.014368 \tValidation Loss: 0.015286\n",
      "Epoch: 13 \tTraining Loss: 0.014191 \tValidation Loss: 0.015057\n",
      "Improved Model Score - Updating Best Model Parameters...\n",
      "Epoch: 14 \tTraining Loss: 0.013971 \tValidation Loss: 0.015088\n",
      "Epoch: 15 \tTraining Loss: 0.013787 \tValidation Loss: 0.014989\n",
      "Improved Model Score - Updating Best Model Parameters...\n",
      "Epoch: 16 \tTraining Loss: 0.013501 \tValidation Loss: 0.014831\n",
      "Improved Model Score - Updating Best Model Parameters...\n",
      "Epoch: 17 \tTraining Loss: 0.013225 \tValidation Loss: 0.014921\n",
      "Epoch: 18 \tTraining Loss: 0.012929 \tValidation Loss: 0.014824\n",
      "Improved Model Score - Updating Best Model Parameters...\n",
      "Epoch: 19 \tTraining Loss: 0.012560 \tValidation Loss: 0.014948\n",
      "Epoch: 20 \tTraining Loss: 0.012132 \tValidation Loss: 0.015302\n",
      "Epoch: 21 \tTraining Loss: 0.011740 \tValidation Loss: 0.015411\n",
      "Epoch: 22 \tTraining Loss: 0.010927 \tValidation Loss: 0.015609\n",
      "Epoch: 23 \tTraining Loss: 0.010150 \tValidation Loss: 0.015812\n",
      "No Improvement for 5 epochs, Early Stopping\n"
     ]
    }
   ],
   "source": [
    "learning_rate = .0003\n",
    "criterion = nn.CrossEntropyLoss()\n",
    "\n",
    "train_model(vgg, train_data_loader, val_data_loader, 200, criterion, learning_rate, 'vgg_no_pretraining')"
   ]
  },
  {
   "cell_type": "code",
   "execution_count": 20,
   "metadata": {},
   "outputs": [
    {
     "name": "stdout",
     "output_type": "stream",
     "text": [
      "Test Accuracy: 26.99044585987261 %\n"
     ]
    }
   ],
   "source": [
    "best_model.load_state_dict(torch.load('../models/vgg_no_pretraining.pt'))\n",
    "\n",
    "best_model = best_model.cuda()\n",
    "best_model.eval()\n",
    "with torch.no_grad():\n",
    "    correct = 0\n",
    "    total = 0\n",
    "    for images, labels in test_data_loader:\n",
    "        if train_on_gpu:\n",
    "            images = images.cuda()\n",
    "            labels = labels.cuda()\n",
    "        outputs = best_model(images)\n",
    "        _, predicted = torch.max(outputs.data, 1)\n",
    "        total += labels.size(0)\n",
    "        correct += (predicted == labels).sum().item()\n",
    "          \n",
    "    print('Test Accuracy: {} %'.format(100 * correct / total))"
   ]
  },
  {
   "cell_type": "code",
   "execution_count": null,
   "metadata": {},
   "outputs": [],
   "source": []
  }
 ],
 "metadata": {
  "kernelspec": {
   "display_name": "eureka_gaming",
   "language": "python",
   "name": "eureka_youtube_v3_gaming_1"
  },
  "language_info": {
   "codemirror_mode": {
    "name": "ipython",
    "version": 3
   },
   "file_extension": ".py",
   "mimetype": "text/x-python",
   "name": "python",
   "nbconvert_exporter": "python",
   "pygments_lexer": "ipython3",
   "version": "3.7.2"
  }
 },
 "nbformat": 4,
 "nbformat_minor": 2
}

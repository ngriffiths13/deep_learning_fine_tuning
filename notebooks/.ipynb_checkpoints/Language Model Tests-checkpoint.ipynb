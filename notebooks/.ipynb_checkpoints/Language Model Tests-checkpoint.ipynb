{
 "cells": [
  {
   "cell_type": "code",
   "execution_count": 8,
   "metadata": {},
   "outputs": [],
   "source": [
    "from flair.data import Sentence\n",
    "from flair.embeddings import FlairEmbeddings, DocumentPoolEmbeddings\n",
    "import torch\n",
    "import pandas as pd\n",
    "import numpy as np\n",
    "import torch.nn as nn\n",
    "from tqdm.notebook import tqdm\n",
    "from sklearn.model_selection import train_test_split"
   ]
  },
  {
   "cell_type": "code",
   "execution_count": 9,
   "metadata": {},
   "outputs": [],
   "source": [
    "df = pd.read_csv('../data/clean_book_data.csv')\n",
    "classes = list(df['genre'].unique())"
   ]
  },
  {
   "cell_type": "code",
   "execution_count": 10,
   "metadata": {},
   "outputs": [],
   "source": [
    "layers = []\n",
    "layers.append(nn.Linear(2048, 256))\n",
    "layers.append(nn.ReLU())\n",
    "layers.append(nn.Linear(256, 256))\n",
    "layers.append(nn.ReLU())\n",
    "layers.append(nn.Linear(256, len(classes)))"
   ]
  },
  {
   "cell_type": "code",
   "execution_count": 11,
   "metadata": {},
   "outputs": [],
   "source": [
    "model = nn.Sequential(*layers)"
   ]
  },
  {
   "cell_type": "code",
   "execution_count": 12,
   "metadata": {},
   "outputs": [],
   "source": [
    "lm_tuned = FlairEmbeddings('../models/best-lm.pt')\n",
    "doc_tuned = DocumentPoolEmbeddings([lm_tuned])\n",
    "\n",
    "lm_embed = FlairEmbeddings('news-forward')\n",
    "doc_embed = DocumentPoolEmbeddings([lm_embed])"
   ]
  },
  {
   "cell_type": "code",
   "execution_count": 13,
   "metadata": {},
   "outputs": [],
   "source": [
    "def shorten_desc(desc):\n",
    "    if len(desc) > 300:\n",
    "        desc = desc[0:300]\n",
    "    return desc"
   ]
  },
  {
   "cell_type": "code",
   "execution_count": 14,
   "metadata": {},
   "outputs": [],
   "source": [
    "df['book_desc'] = df['book_desc'].astype(str)\n",
    "df['book_desc'] = df['book_desc'].apply(shorten_desc)"
   ]
  },
  {
   "cell_type": "code",
   "execution_count": 15,
   "metadata": {},
   "outputs": [],
   "source": [
    "def get_sentence_embedding(sent, embed):\n",
    "    try:\n",
    "        sent = Sentence(sent)\n",
    "        embed.embed(sent)\n",
    "        return sent.embedding.detach().cpu().numpy()\n",
    "    except:\n",
    "        return np.zeros(2048)"
   ]
  },
  {
   "cell_type": "code",
   "execution_count": 16,
   "metadata": {},
   "outputs": [
    {
     "data": {
      "application/vnd.jupyter.widget-view+json": {
       "model_id": "3e8c1112d85d4846bcdb01335e2bbf34",
       "version_major": 2,
       "version_minor": 0
      },
      "text/plain": [
       "HBox(children=(IntProgress(value=0, max=18837), HTML(value='')))"
      ]
     },
     "metadata": {},
     "output_type": "display_data"
    },
    {
     "name": "stdout",
     "output_type": "stream",
     "text": [
      "\n"
     ]
    }
   ],
   "source": [
    "desc_feats = []\n",
    "for i in tqdm(range(df.shape[0])):\n",
    "    desc_feats.append(get_sentence_embedding(df['book_desc'][i], doc_embed))"
   ]
  },
  {
   "cell_type": "code",
   "execution_count": 17,
   "metadata": {},
   "outputs": [],
   "source": [
    "desc_feats = np.stack(desc_feats)"
   ]
  },
  {
   "cell_type": "code",
   "execution_count": 36,
   "metadata": {},
   "outputs": [],
   "source": [
    "def load_data(x, y, i):\n",
    "        x_tens = torch.FloatTensor(x[i, :]).view(1, -1)\n",
    "        y_tens = torch.LongTensor([y[i]])\n",
    "        if torch.cuda.is_available():\n",
    "            x_tens = x_tens.cuda()\n",
    "            y_tens = y_tens.cuda()\n",
    "        return x_tens, y_tens"
   ]
  },
  {
   "cell_type": "code",
   "execution_count": 19,
   "metadata": {},
   "outputs": [],
   "source": [
    "desc_feats = pd.DataFrame(desc_feats)\n",
    "x_train, x_test, y_train, y_test = train_test_split(desc_feats, df.genre,\n",
    "                                                    test_size=.4, stratify=df.genre, random_state=0)\n",
    "x_val, x_test, y_val, y_test = train_test_split(x_test, y_test, test_size=.5,\n",
    "                                                stratify=y_test, random_state=0)"
   ]
  },
  {
   "cell_type": "code",
   "execution_count": 20,
   "metadata": {},
   "outputs": [],
   "source": [
    "x_train, y_train, x_val, y_val, x_test, y_test =x_train.values, y_train.values, x_val.values, y_val.values, x_test.values, y_test.values "
   ]
  },
  {
   "cell_type": "code",
   "execution_count": 49,
   "metadata": {},
   "outputs": [],
   "source": [
    "def train_model(model, criterion, optimizer, epochs, x_train, y_train, x_val, y_val, model_name):\n",
    "    best_loss = np.inf\n",
    "    if torch.cuda.is_available():\n",
    "        model = model.cuda()\n",
    "        \n",
    "    for epoch in range(epochs):\n",
    "        train_loss = 0\n",
    "        val_loss = 0\n",
    "        \n",
    "        for i in range(x_train.shape[0]):\n",
    "            x_tens, y_tens = load_data(x_train, y_train, i)\n",
    "            \n",
    "            optimizer.zero_grad()\n",
    "            out = model(x_tens)\n",
    "            loss = criterion(out, y_tens)\n",
    "            loss.backward()\n",
    "            optimizer.step()\n",
    "            \n",
    "            train_loss += loss.item()\n",
    "\n",
    "        model.eval()\n",
    "        for i in range(x_val.shape[0]):\n",
    "            x_tens, y_tens = load_data(x_val, y_val, i)\n",
    "            \n",
    "            out = model(x_tens)\n",
    "            loss = criterion(out, y_tens)\n",
    "\n",
    "            val_loss += loss.item()\n",
    "            \n",
    "        train_loss = train_loss/x_train.shape[0]\n",
    "        val_loss = val_loss/x_val.shape[0]\n",
    "            \n",
    "        print('Epoch: {} \\tTraining Loss: {:.6f} \\tValidation Loss: {:.6f}'.format(epoch+1, train_loss, val_loss))\n",
    "        \n",
    "        if val_loss < best_loss:\n",
    "            no_improvement = 0\n",
    "            best_loss = val_loss\n",
    "            print('Improved Model Score - Updating Best Model Parameters...')\n",
    "            torch.save(model.state_dict(), f'../models/{model_name}.pt')\n",
    "        else:\n",
    "            no_improvement +=1\n",
    "            if no_improvement==10:\n",
    "                print('No Improvement for 10 epochs, Early Stopping')\n",
    "                break"
   ]
  },
  {
   "cell_type": "code",
   "execution_count": 50,
   "metadata": {},
   "outputs": [
    {
     "name": "stdout",
     "output_type": "stream",
     "text": [
      "Epoch: 1 \tTraining Loss: 117.246827 \tValidation Loss: 133.428352\n",
      "Improved Model Score - Updating Best Model Parameters...\n",
      "Epoch: 2 \tTraining Loss: 109.298677 \tValidation Loss: 126.479640\n",
      "Improved Model Score - Updating Best Model Parameters...\n",
      "Epoch: 3 \tTraining Loss: 106.226356 \tValidation Loss: 118.421920\n",
      "Improved Model Score - Updating Best Model Parameters...\n",
      "Epoch: 4 \tTraining Loss: 103.538589 \tValidation Loss: 116.812415\n",
      "Improved Model Score - Updating Best Model Parameters...\n",
      "Epoch: 5 \tTraining Loss: 101.711574 \tValidation Loss: 114.175899\n",
      "Improved Model Score - Updating Best Model Parameters...\n",
      "Epoch: 6 \tTraining Loss: 99.567965 \tValidation Loss: 94.645014\n",
      "Improved Model Score - Updating Best Model Parameters...\n",
      "Epoch: 7 \tTraining Loss: 97.255853 \tValidation Loss: 96.876549\n",
      "Epoch: 8 \tTraining Loss: 94.979653 \tValidation Loss: 101.389036\n",
      "Epoch: 9 \tTraining Loss: 92.948724 \tValidation Loss: 97.093445\n",
      "Epoch: 10 \tTraining Loss: 89.608612 \tValidation Loss: 94.411525\n",
      "Improved Model Score - Updating Best Model Parameters...\n",
      "Epoch: 11 \tTraining Loss: 89.717159 \tValidation Loss: 91.631429\n",
      "Improved Model Score - Updating Best Model Parameters...\n",
      "Epoch: 12 \tTraining Loss: 86.399655 \tValidation Loss: 105.366871\n",
      "Epoch: 13 \tTraining Loss: 85.131094 \tValidation Loss: 82.750902\n",
      "Improved Model Score - Updating Best Model Parameters...\n",
      "Epoch: 14 \tTraining Loss: 83.595272 \tValidation Loss: 76.964307\n",
      "Improved Model Score - Updating Best Model Parameters...\n",
      "Epoch: 15 \tTraining Loss: 80.801588 \tValidation Loss: 86.232557\n",
      "Epoch: 16 \tTraining Loss: 79.384940 \tValidation Loss: 84.843477\n",
      "Epoch: 17 \tTraining Loss: 76.278982 \tValidation Loss: 74.832174\n",
      "Improved Model Score - Updating Best Model Parameters...\n",
      "Epoch: 18 \tTraining Loss: 75.305886 \tValidation Loss: 78.992118\n",
      "Epoch: 19 \tTraining Loss: 74.581318 \tValidation Loss: 88.477846\n",
      "Epoch: 20 \tTraining Loss: 71.064134 \tValidation Loss: 71.321800\n",
      "Improved Model Score - Updating Best Model Parameters...\n",
      "Epoch: 21 \tTraining Loss: 70.468298 \tValidation Loss: 74.515689\n",
      "Epoch: 22 \tTraining Loss: 67.591552 \tValidation Loss: 69.572842\n",
      "Improved Model Score - Updating Best Model Parameters...\n",
      "Epoch: 23 \tTraining Loss: 64.965652 \tValidation Loss: 70.530462\n",
      "Epoch: 24 \tTraining Loss: 63.227098 \tValidation Loss: 77.598892\n",
      "Epoch: 25 \tTraining Loss: 60.824027 \tValidation Loss: 67.549261\n",
      "Improved Model Score - Updating Best Model Parameters...\n",
      "Epoch: 26 \tTraining Loss: 59.035742 \tValidation Loss: 67.153386\n",
      "Improved Model Score - Updating Best Model Parameters...\n",
      "Epoch: 27 \tTraining Loss: 57.024540 \tValidation Loss: 72.108331\n",
      "Epoch: 28 \tTraining Loss: 55.017053 \tValidation Loss: 71.092184\n",
      "Epoch: 29 \tTraining Loss: 52.161355 \tValidation Loss: 63.403635\n",
      "Improved Model Score - Updating Best Model Parameters...\n",
      "Epoch: 30 \tTraining Loss: 50.642410 \tValidation Loss: 61.640034\n",
      "Improved Model Score - Updating Best Model Parameters...\n",
      "Epoch: 31 \tTraining Loss: 48.075761 \tValidation Loss: 56.662024\n",
      "Improved Model Score - Updating Best Model Parameters...\n",
      "Epoch: 32 \tTraining Loss: 46.857827 \tValidation Loss: 57.687849\n",
      "Epoch: 33 \tTraining Loss: 45.362873 \tValidation Loss: 56.337763\n",
      "Improved Model Score - Updating Best Model Parameters...\n",
      "Epoch: 34 \tTraining Loss: 43.740065 \tValidation Loss: 58.398093\n",
      "Epoch: 35 \tTraining Loss: 42.645175 \tValidation Loss: 51.639742\n",
      "Improved Model Score - Updating Best Model Parameters...\n",
      "Epoch: 36 \tTraining Loss: 40.272945 \tValidation Loss: 54.368398\n",
      "Epoch: 37 \tTraining Loss: 38.988175 \tValidation Loss: 50.330105\n",
      "Improved Model Score - Updating Best Model Parameters...\n",
      "Epoch: 38 \tTraining Loss: 37.743806 \tValidation Loss: 52.750743\n",
      "Epoch: 39 \tTraining Loss: 35.963809 \tValidation Loss: 57.251949\n",
      "Epoch: 40 \tTraining Loss: 35.042579 \tValidation Loss: 56.191575\n",
      "Epoch: 41 \tTraining Loss: 33.726042 \tValidation Loss: 52.618243\n",
      "Epoch: 42 \tTraining Loss: 32.445206 \tValidation Loss: 43.749354\n",
      "Improved Model Score - Updating Best Model Parameters...\n",
      "Epoch: 43 \tTraining Loss: 31.434436 \tValidation Loss: 46.022411\n",
      "Epoch: 44 \tTraining Loss: 30.069502 \tValidation Loss: 36.851675\n",
      "Improved Model Score - Updating Best Model Parameters...\n",
      "Epoch: 45 \tTraining Loss: 28.909988 \tValidation Loss: 40.109538\n",
      "Epoch: 46 \tTraining Loss: 27.369813 \tValidation Loss: 38.249632\n",
      "Epoch: 47 \tTraining Loss: 26.809486 \tValidation Loss: 38.668446\n",
      "Epoch: 48 \tTraining Loss: 25.511961 \tValidation Loss: 35.592969\n",
      "Improved Model Score - Updating Best Model Parameters...\n",
      "Epoch: 49 \tTraining Loss: 24.417940 \tValidation Loss: 39.126132\n",
      "Epoch: 50 \tTraining Loss: 23.517723 \tValidation Loss: 40.388091\n",
      "Epoch: 51 \tTraining Loss: 22.855300 \tValidation Loss: 36.551367\n",
      "Epoch: 52 \tTraining Loss: 22.015335 \tValidation Loss: 32.343088\n",
      "Improved Model Score - Updating Best Model Parameters...\n",
      "Epoch: 53 \tTraining Loss: 21.300587 \tValidation Loss: 37.880223\n",
      "Epoch: 54 \tTraining Loss: 20.502336 \tValidation Loss: 33.251559\n",
      "Epoch: 55 \tTraining Loss: 19.949357 \tValidation Loss: 31.939839\n",
      "Improved Model Score - Updating Best Model Parameters...\n",
      "Epoch: 56 \tTraining Loss: 19.514534 \tValidation Loss: 30.594985\n",
      "Improved Model Score - Updating Best Model Parameters...\n",
      "Epoch: 57 \tTraining Loss: 18.521438 \tValidation Loss: 34.462640\n",
      "Epoch: 58 \tTraining Loss: 18.044533 \tValidation Loss: 31.622553\n",
      "Epoch: 59 \tTraining Loss: 17.477870 \tValidation Loss: 30.448212\n",
      "Improved Model Score - Updating Best Model Parameters...\n",
      "Epoch: 60 \tTraining Loss: 16.804303 \tValidation Loss: 33.263289\n",
      "Epoch: 61 \tTraining Loss: 16.096077 \tValidation Loss: 28.893492\n",
      "Improved Model Score - Updating Best Model Parameters...\n",
      "Epoch: 62 \tTraining Loss: 15.759333 \tValidation Loss: 28.053627\n",
      "Improved Model Score - Updating Best Model Parameters...\n",
      "Epoch: 63 \tTraining Loss: 15.294840 \tValidation Loss: 28.173480\n",
      "Epoch: 64 \tTraining Loss: 14.542619 \tValidation Loss: 24.562978\n",
      "Improved Model Score - Updating Best Model Parameters...\n",
      "Epoch: 65 \tTraining Loss: 13.971894 \tValidation Loss: 24.358998\n",
      "Improved Model Score - Updating Best Model Parameters...\n",
      "Epoch: 66 \tTraining Loss: 13.521133 \tValidation Loss: 24.872761\n",
      "Epoch: 67 \tTraining Loss: 12.898655 \tValidation Loss: 24.532290\n",
      "Epoch: 68 \tTraining Loss: 12.319669 \tValidation Loss: 21.950362\n",
      "Improved Model Score - Updating Best Model Parameters...\n",
      "Epoch: 69 \tTraining Loss: 11.873314 \tValidation Loss: 25.059059\n",
      "Epoch: 70 \tTraining Loss: 11.389887 \tValidation Loss: 21.220305\n",
      "Improved Model Score - Updating Best Model Parameters...\n",
      "Epoch: 71 \tTraining Loss: 10.720920 \tValidation Loss: 21.037646\n",
      "Improved Model Score - Updating Best Model Parameters...\n",
      "Epoch: 72 \tTraining Loss: 10.452772 \tValidation Loss: 21.402184\n",
      "Epoch: 73 \tTraining Loss: 9.950835 \tValidation Loss: 19.906392\n",
      "Improved Model Score - Updating Best Model Parameters...\n",
      "Epoch: 74 \tTraining Loss: 9.452297 \tValidation Loss: 19.469766\n",
      "Improved Model Score - Updating Best Model Parameters...\n",
      "Epoch: 75 \tTraining Loss: 9.109090 \tValidation Loss: 17.995781\n",
      "Improved Model Score - Updating Best Model Parameters...\n",
      "Epoch: 76 \tTraining Loss: 8.773555 \tValidation Loss: 19.367938\n",
      "Epoch: 77 \tTraining Loss: 8.383587 \tValidation Loss: 17.963195\n",
      "Improved Model Score - Updating Best Model Parameters...\n",
      "Epoch: 78 \tTraining Loss: 8.101905 \tValidation Loss: 17.728666\n",
      "Improved Model Score - Updating Best Model Parameters...\n",
      "Epoch: 79 \tTraining Loss: 7.836099 \tValidation Loss: 17.546584\n",
      "Improved Model Score - Updating Best Model Parameters...\n",
      "Epoch: 80 \tTraining Loss: 7.355658 \tValidation Loss: 15.544373\n",
      "Improved Model Score - Updating Best Model Parameters...\n",
      "Epoch: 81 \tTraining Loss: 6.978579 \tValidation Loss: 15.819746\n",
      "Epoch: 82 \tTraining Loss: 6.729924 \tValidation Loss: 15.667495\n",
      "Epoch: 83 \tTraining Loss: 6.514918 \tValidation Loss: 15.074560\n",
      "Improved Model Score - Updating Best Model Parameters...\n",
      "Epoch: 84 \tTraining Loss: 6.231605 \tValidation Loss: 14.679796\n",
      "Improved Model Score - Updating Best Model Parameters...\n",
      "Epoch: 85 \tTraining Loss: 5.938677 \tValidation Loss: 14.354540\n",
      "Improved Model Score - Updating Best Model Parameters...\n",
      "Epoch: 86 \tTraining Loss: 5.754305 \tValidation Loss: 14.505152\n",
      "Epoch: 87 \tTraining Loss: 5.483582 \tValidation Loss: 13.718735\n",
      "Improved Model Score - Updating Best Model Parameters...\n",
      "Epoch: 88 \tTraining Loss: 5.317988 \tValidation Loss: 13.721917\n"
     ]
    },
    {
     "name": "stdout",
     "output_type": "stream",
     "text": [
      "Epoch: 89 \tTraining Loss: 5.126591 \tValidation Loss: 13.440791\n",
      "Improved Model Score - Updating Best Model Parameters...\n",
      "Epoch: 90 \tTraining Loss: 4.899946 \tValidation Loss: 13.505231\n",
      "Epoch: 91 \tTraining Loss: 4.795920 \tValidation Loss: 12.939801\n",
      "Improved Model Score - Updating Best Model Parameters...\n",
      "Epoch: 92 \tTraining Loss: 4.589914 \tValidation Loss: 12.613907\n",
      "Improved Model Score - Updating Best Model Parameters...\n",
      "Epoch: 93 \tTraining Loss: 4.441484 \tValidation Loss: 12.925271\n",
      "Epoch: 94 \tTraining Loss: 4.244018 \tValidation Loss: 12.493393\n",
      "Improved Model Score - Updating Best Model Parameters...\n",
      "Epoch: 95 \tTraining Loss: 4.110940 \tValidation Loss: 11.858325\n",
      "Improved Model Score - Updating Best Model Parameters...\n",
      "Epoch: 96 \tTraining Loss: 4.002974 \tValidation Loss: 11.583519\n",
      "Improved Model Score - Updating Best Model Parameters...\n",
      "Epoch: 97 \tTraining Loss: 3.822378 \tValidation Loss: 11.313494\n",
      "Improved Model Score - Updating Best Model Parameters...\n",
      "Epoch: 98 \tTraining Loss: 3.682752 \tValidation Loss: 11.450191\n",
      "Epoch: 99 \tTraining Loss: 3.552016 \tValidation Loss: 11.551188\n",
      "Epoch: 100 \tTraining Loss: 3.433205 \tValidation Loss: 10.873525\n",
      "Improved Model Score - Updating Best Model Parameters...\n",
      "Epoch: 101 \tTraining Loss: 3.347903 \tValidation Loss: 10.772489\n",
      "Improved Model Score - Updating Best Model Parameters...\n",
      "Epoch: 102 \tTraining Loss: 3.216221 \tValidation Loss: 10.574034\n",
      "Improved Model Score - Updating Best Model Parameters...\n",
      "Epoch: 103 \tTraining Loss: 3.111737 \tValidation Loss: 10.167253\n",
      "Improved Model Score - Updating Best Model Parameters...\n",
      "Epoch: 104 \tTraining Loss: 3.041943 \tValidation Loss: 10.759566\n",
      "Epoch: 105 \tTraining Loss: 2.961027 \tValidation Loss: 9.824572\n",
      "Improved Model Score - Updating Best Model Parameters...\n",
      "Epoch: 106 \tTraining Loss: 2.884200 \tValidation Loss: 9.737054\n",
      "Improved Model Score - Updating Best Model Parameters...\n",
      "Epoch: 107 \tTraining Loss: 2.815263 \tValidation Loss: 10.047973\n",
      "Epoch: 108 \tTraining Loss: 2.741825 \tValidation Loss: 9.971759\n",
      "Epoch: 109 \tTraining Loss: 2.650088 \tValidation Loss: 9.291490\n",
      "Improved Model Score - Updating Best Model Parameters...\n",
      "Epoch: 110 \tTraining Loss: 2.577179 \tValidation Loss: 9.594679\n",
      "Epoch: 111 \tTraining Loss: 2.540476 \tValidation Loss: 9.428892\n",
      "Epoch: 112 \tTraining Loss: 2.479417 \tValidation Loss: 9.177853\n",
      "Improved Model Score - Updating Best Model Parameters...\n",
      "Epoch: 113 \tTraining Loss: 2.385643 \tValidation Loss: 9.472203\n",
      "Epoch: 114 \tTraining Loss: 2.330686 \tValidation Loss: 9.097311\n",
      "Improved Model Score - Updating Best Model Parameters...\n",
      "Epoch: 115 \tTraining Loss: 2.288432 \tValidation Loss: 9.150667\n",
      "Epoch: 116 \tTraining Loss: 2.230246 \tValidation Loss: 8.963290\n",
      "Improved Model Score - Updating Best Model Parameters...\n",
      "Epoch: 117 \tTraining Loss: 2.190592 \tValidation Loss: 9.085478\n",
      "Epoch: 118 \tTraining Loss: 2.167279 \tValidation Loss: 8.875012\n",
      "Improved Model Score - Updating Best Model Parameters...\n",
      "Epoch: 119 \tTraining Loss: 2.099594 \tValidation Loss: 8.777555\n",
      "Improved Model Score - Updating Best Model Parameters...\n",
      "Epoch: 120 \tTraining Loss: 2.070595 \tValidation Loss: 8.866630\n",
      "Epoch: 121 \tTraining Loss: 2.052556 \tValidation Loss: 9.053835\n",
      "Epoch: 122 \tTraining Loss: 1.995558 \tValidation Loss: 8.984920\n",
      "Epoch: 123 \tTraining Loss: 1.963036 \tValidation Loss: 9.197042\n",
      "Epoch: 124 \tTraining Loss: 1.915140 \tValidation Loss: 9.029924\n",
      "Epoch: 125 \tTraining Loss: 1.889410 \tValidation Loss: 9.135375\n",
      "Epoch: 126 \tTraining Loss: 1.857900 \tValidation Loss: 9.286460\n",
      "Epoch: 127 \tTraining Loss: 1.825215 \tValidation Loss: 9.114983\n",
      "Epoch: 128 \tTraining Loss: 1.782507 \tValidation Loss: 9.445065\n",
      "Epoch: 129 \tTraining Loss: 1.776500 \tValidation Loss: 9.595622\n",
      "No Improvement for 5 epochs, Early Stopping\n"
     ]
    }
   ],
   "source": [
    "criterion = nn.CrossEntropyLoss()\n",
    "optimizer = torch.optim.Adam(model.parameters(), lr=.0003)\n",
    "train_model(model, criterion, optimizer, 200, x_train, y_train, x_val, y_val, 'flair_best_classifier')"
   ]
  },
  {
   "cell_type": "code",
   "execution_count": 51,
   "metadata": {},
   "outputs": [
    {
     "name": "stdout",
     "output_type": "stream",
     "text": [
      "Test Accuracy: 21.629511677282377 %\n"
     ]
    }
   ],
   "source": [
    "model.load_state_dict(torch.load('../models/flair_best_classifier.pt'))\n",
    "\n",
    "model = model.cuda()\n",
    "model.eval()\n",
    "with torch.no_grad():\n",
    "    correct = 0\n",
    "    total = 0\n",
    "    for i in range(x_test.shape[0]):\n",
    "        x_tens, y_tens = load_data(x_test, y_test, i)\n",
    "        outputs = model(x_tens)\n",
    "        _, predicted = torch.max(outputs.data, 1)\n",
    "        total += y_tens.size(0)\n",
    "        correct += (predicted == y_tens).sum().item()\n",
    "          \n",
    "    print('Test Accuracy: {} %'.format(100 * correct / total))"
   ]
  },
  {
   "cell_type": "code",
   "execution_count": 52,
   "metadata": {},
   "outputs": [
    {
     "data": {
      "application/vnd.jupyter.widget-view+json": {
       "model_id": "6eea8fb93e6a428190e05157ad27896c",
       "version_major": 2,
       "version_minor": 0
      },
      "text/plain": [
       "HBox(children=(IntProgress(value=0, max=18837), HTML(value='')))"
      ]
     },
     "metadata": {},
     "output_type": "display_data"
    },
    {
     "name": "stdout",
     "output_type": "stream",
     "text": [
      "\n"
     ]
    }
   ],
   "source": [
    "desc_feats = []\n",
    "for i in tqdm(range(df.shape[0])):\n",
    "    desc_feats.append(get_sentence_embedding(df['book_desc'][i], doc_tuned))\n",
    "    \n",
    "desc_feats = np.stack(desc_feats)"
   ]
  },
  {
   "cell_type": "code",
   "execution_count": 53,
   "metadata": {},
   "outputs": [],
   "source": [
    "model = nn.Sequential(*layers)"
   ]
  },
  {
   "cell_type": "code",
   "execution_count": 55,
   "metadata": {},
   "outputs": [],
   "source": [
    "desc_feats = pd.DataFrame(desc_feats)\n",
    "x_train, x_test, y_train, y_test = train_test_split(desc_feats, df.genre,\n",
    "                                                    test_size=.4, stratify=df.genre, random_state=0)\n",
    "x_val, x_test, y_val, y_test = train_test_split(x_test, y_test, test_size=.5,\n",
    "                                                stratify=y_test, random_state=0)\n",
    "\n",
    "x_train, y_train, x_val, y_val, x_test, y_test =x_train.values, y_train.values, x_val.values, y_val.values, x_test.values, y_test.values"
   ]
  },
  {
   "cell_type": "code",
   "execution_count": 59,
   "metadata": {},
   "outputs": [
    {
     "name": "stdout",
     "output_type": "stream",
     "text": [
      "Epoch: 1 \tTraining Loss: 7.857734 \tValidation Loss: 9.922993\n",
      "Improved Model Score - Updating Best Model Parameters...\n",
      "Epoch: 2 \tTraining Loss: 4.986064 \tValidation Loss: 7.485709\n",
      "Improved Model Score - Updating Best Model Parameters...\n",
      "Epoch: 3 \tTraining Loss: 4.053153 \tValidation Loss: 6.611289\n",
      "Improved Model Score - Updating Best Model Parameters...\n",
      "Epoch: 4 \tTraining Loss: 3.536738 \tValidation Loss: 6.105238\n",
      "Improved Model Score - Updating Best Model Parameters...\n",
      "Epoch: 5 \tTraining Loss: 3.226733 \tValidation Loss: 5.701527\n",
      "Improved Model Score - Updating Best Model Parameters...\n",
      "Epoch: 6 \tTraining Loss: 2.981042 \tValidation Loss: 5.628391\n",
      "Improved Model Score - Updating Best Model Parameters...\n",
      "Epoch: 7 \tTraining Loss: 2.798364 \tValidation Loss: 5.339369\n",
      "Improved Model Score - Updating Best Model Parameters...\n",
      "Epoch: 8 \tTraining Loss: 2.656885 \tValidation Loss: 5.092162\n",
      "Improved Model Score - Updating Best Model Parameters...\n",
      "Epoch: 9 \tTraining Loss: 2.547188 \tValidation Loss: 5.076089\n",
      "Improved Model Score - Updating Best Model Parameters...\n",
      "Epoch: 10 \tTraining Loss: 2.441760 \tValidation Loss: 5.111447\n",
      "Epoch: 11 \tTraining Loss: 2.363507 \tValidation Loss: 5.012934\n",
      "Improved Model Score - Updating Best Model Parameters...\n",
      "Epoch: 12 \tTraining Loss: 2.293010 \tValidation Loss: 5.106457\n",
      "Epoch: 13 \tTraining Loss: 2.214331 \tValidation Loss: 5.092774\n",
      "Epoch: 14 \tTraining Loss: 2.149089 \tValidation Loss: 5.126683\n",
      "Epoch: 15 \tTraining Loss: 2.093123 \tValidation Loss: 5.254531\n",
      "Epoch: 16 \tTraining Loss: 2.048228 \tValidation Loss: 5.411206\n",
      "Epoch: 17 \tTraining Loss: 1.985953 \tValidation Loss: 5.370566\n",
      "Epoch: 18 \tTraining Loss: 1.926121 \tValidation Loss: 5.424957\n",
      "Epoch: 19 \tTraining Loss: 1.879888 \tValidation Loss: 5.505754\n",
      "Epoch: 20 \tTraining Loss: 1.829304 \tValidation Loss: 5.636216\n",
      "Epoch: 21 \tTraining Loss: 1.791688 \tValidation Loss: 5.688446\n",
      "No Improvement for 5 epochs, Early Stopping\n"
     ]
    }
   ],
   "source": [
    "criterion = nn.CrossEntropyLoss()\n",
    "optimizer = torch.optim.Adam(model.parameters(), lr=.0003)\n",
    "train_model(model, criterion, optimizer, 200, x_train, y_train, x_val, y_val, 'tuned_flair_best_classifier')"
   ]
  },
  {
   "cell_type": "code",
   "execution_count": 60,
   "metadata": {},
   "outputs": [
    {
     "name": "stdout",
     "output_type": "stream",
     "text": [
      "Test Accuracy: 23.673036093418258 %\n"
     ]
    }
   ],
   "source": [
    "model.load_state_dict(torch.load('../models/tuned_flair_best_classifier.pt'))\n",
    "\n",
    "model = model.cuda()\n",
    "model.eval()\n",
    "with torch.no_grad():\n",
    "    correct = 0\n",
    "    total = 0\n",
    "    for i in range(x_test.shape[0]):\n",
    "        x_tens, y_tens = load_data(x_test, y_test, i)\n",
    "        outputs = model(x_tens)\n",
    "        _, predicted = torch.max(outputs.data, 1)\n",
    "        total += y_tens.size(0)\n",
    "        correct += (predicted == y_tens).sum().item()\n",
    "          \n",
    "    print('Test Accuracy: {} %'.format(100 * correct / total))"
   ]
  }
 ],
 "metadata": {
  "kernelspec": {
   "display_name": "eureka_gaming",
   "language": "python",
   "name": "eureka_youtube_v3_gaming_1"
  },
  "language_info": {
   "codemirror_mode": {
    "name": "ipython",
    "version": 3
   },
   "file_extension": ".py",
   "mimetype": "text/x-python",
   "name": "python",
   "nbconvert_exporter": "python",
   "pygments_lexer": "ipython3",
   "version": "3.7.2"
  }
 },
 "nbformat": 4,
 "nbformat_minor": 2
}
